{
  "nbformat": 4,
  "nbformat_minor": 0,
  "metadata": {
    "colab": {
      "provenance": [],
      "include_colab_link": true
    },
    "kernelspec": {
      "name": "python3",
      "display_name": "Python 3"
    },
    "language_info": {
      "name": "python"
    }
  },
  "cells": [
    {
      "cell_type": "markdown",
      "metadata": {
        "id": "view-in-github",
        "colab_type": "text"
      },
      "source": [
        "<a href=\"https://colab.research.google.com/github/belenpessoa/tecprog2025/blob/master/U1_GTP1_1.ipynb\" target=\"_parent\"><img src=\"https://colab.research.google.com/assets/colab-badge.svg\" alt=\"Open In Colab\"/></a>"
      ]
    },
    {
      "cell_type": "markdown",
      "source": [
        "# Guia de Trabajos Prácticos 1: Paradigma Secuencial\n",
        "\n",
        "### Introducción\n",
        "El paradigma de programación secuencial es uno de los conceptos más básicos, donde las instrucciones se ejecutan en orden, una tras otra, desde el inicio hasta el final del programa. Este enfoque permite a los programadores abordar problemas de manera estructurada, facilitando el análisis y la solución de los mismos mediante la descomposición en pasos sucesivos. Aprender a programar dentro de este paradigma no solo es crucial para los principiantes, sino que también sienta las bases para comprender paradigmas más complejos en el futuro.\n",
        "### Objetivo\n",
        "El objetivo de esta guía es proporcionar a los principiantes en programación una serie de ejercicios que les ayuden a entender y aplicar los principios básicos del paradigma de programación secuencial. A través de estos ejercicios, los estudiantes aprenderán a manejar entradas y salidas, realizar cálculos matemáticos simples, y aplicar lógica básica para resolver problemas comunes.\n"
      ],
      "metadata": {
        "id": "uKDnMQadm82Y"
      }
    },
    {
      "cell_type": "markdown",
      "source": [
        "### Ejercicio 1: Calculadora de Edad\n",
        "\n",
        "Desarrolla un programa que pida al usuario su año de nacimiento y el año actual, y calcule su edad.\n"
      ],
      "metadata": {
        "id": "RnnJOV5knT34"
      }
    },
    {
      "cell_type": "code",
      "source": [
        "nacimiento = int(input(\"Introduce tu año de nacimiento: \"))\n",
        "actual = int(input(\"Introduce el año actual: \"))\n",
        "\n",
        "# Calcula la edad del usuario\n",
        "\n",
        "# Imprime la edad del usuario"
      ],
      "metadata": {
        "id": "-wWpm8QuniH1"
      },
      "execution_count": null,
      "outputs": []
    },
    {
      "cell_type": "markdown",
      "source": [],
      "metadata": {
        "id": "6xUklL9TT-1P"
      }
    },
    {
      "cell_type": "markdown",
      "source": [
        "### Ejercicio 2: Conversión de Segundos\n",
        "\n",
        "Realiza un programa que convierta un número de segundos introducidos por el usuario en horas, minutos y segundos."
      ],
      "metadata": {
        "id": "RYhst23coitk"
      }
    },
    {
      "cell_type": "code",
      "source": [
        "segundos = int(input(\"Introduce el número de segundos: \"))\n",
        "\n",
        "# Convierte los segundos a horas, minutos y segundos\n",
        "\n",
        "# Imprime el resultado en formato de horas, minutos y segundos"
      ],
      "metadata": {
        "id": "HPOL0Nwiomej"
      },
      "execution_count": null,
      "outputs": []
    },
    {
      "cell_type": "markdown",
      "source": [
        "### Ejercicio 3: Calculadora de Raíces Cuadradas\n",
        "\n",
        "Crea un programa que calcule y muestre la raíz cuadrada de una serie de números introducidos por el usuario. El programa termina cuando el usuario introduce un número negativo."
      ],
      "metadata": {
        "id": "Yje1cnTQom1u"
      }
    },
    {
      "cell_type": "code",
      "source": [
        "import math\n",
        "\n",
        "numero = float(input(\"Introduce un número (negativo para terminar): \"))\n",
        "\n",
        "# En un bucle, verifica si el número es negativo; si lo es, termina el bucle\n",
        "# Calcula la raíz cuadrada del número\n",
        "\n",
        "# Imprime la raíz cuadrada"
      ],
      "metadata": {
        "id": "C7Ox_p4coosL"
      },
      "execution_count": null,
      "outputs": []
    },
    {
      "cell_type": "markdown",
      "source": [
        "### Ejercicio 4: Cálculo del Índice de Masa Corporal (IMC)\n",
        "\n",
        "Crea un programa que solicite el peso en kilogramos y la altura en metros de una persona, calcule su IMC y lo clasifique según la tabla de IMC."
      ],
      "metadata": {
        "id": "igiSURU3opBv"
      }
    },
    {
      "cell_type": "code",
      "source": [
        "peso = float(input(\"Introduce tu peso en kilogramos: \"))\n",
        "altura = float(input(\"Introduce tu altura en metros: \"))\n",
        "\n",
        "# Calcula el IMC\n",
        "\n",
        "# Imprime el IMC"
      ],
      "metadata": {
        "id": "_NWk0hTdorGV"
      },
      "execution_count": null,
      "outputs": []
    },
    {
      "cell_type": "markdown",
      "source": [
        "### Ejercicio 5: Conversión de Unidades\n",
        "\n",
        "Realiza un programa que convierta la temperatura de grados Celsius a Fahrenheit."
      ],
      "metadata": {
        "id": "gpoBwyrAorQl"
      }
    },
    {
      "cell_type": "code",
      "source": [
        "celsius = float(input(\"Introduce la temperatura en grados Celsius: \"))\n",
        "\n",
        "# Convierte la temperatura a Fahrenheit\n",
        "\n",
        "# Imprime la temperatura en Fahrenheit"
      ],
      "metadata": {
        "id": "icLBHz5cos0s"
      },
      "execution_count": null,
      "outputs": []
    },
    {
      "cell_type": "markdown",
      "source": [
        "### Ejercicio 6: Cálculo de Distancia de Viaje\n",
        "\n",
        "Escribe un programa que pida al usuario la velocidad promedio de un vehículo (en km/h) y el tiempo de viaje (en horas), y luego calcule la distancia total recorrida."
      ],
      "metadata": {
        "id": "d8m5nzQtotAH"
      }
    },
    {
      "cell_type": "code",
      "source": [
        "velocidad_promedio = float(input(\"Introduce la velocidad promedio en km/h: \"))\n",
        "tiempo_viaje = float(input(\"Introduce el tiempo de viaje en horas: \"))\n",
        "\n",
        "# Calcula la distancia total recorrida\n",
        "\n",
        "# Imprime la distancia"
      ],
      "metadata": {
        "id": "8rQBadBWoukF"
      },
      "execution_count": null,
      "outputs": []
    },
    {
      "cell_type": "markdown",
      "source": [
        "### Ejercicio 7: Presupuesto de Viaje\n",
        "\n",
        "Desarrolla un programa que solicite al usuario el costo por día de alquiler de un vehículo, el número de días de alquiler y el presupuesto para combustible, y luego calcule el costo total del viaje."
      ],
      "metadata": {
        "id": "g-ptrzeuouvb"
      }
    },
    {
      "cell_type": "code",
      "source": [
        "costo_dia_alquiler = float(input(\"Introduce el costo por día de alquiler del vehículo: \"))\n",
        "numero_dias = int(input(\"Introduce el número de días de alquiler: \"))\n",
        "presupuesto_combustible = float(input(\"Introduce el presupuesto para combustible: \"))\n",
        "\n",
        "# Calcula el costo total del viaje\n",
        "\n",
        "# Imprime el costo total"
      ],
      "metadata": {
        "id": "L1lGLnnDowYS"
      },
      "execution_count": null,
      "outputs": []
    },
    {
      "cell_type": "markdown",
      "source": [
        "### Ejercicio 8: Volumen de un Cilindro\n",
        "\n",
        "Crea un programa que calcule el volumen de un cilindro después de pedir al usuario el radio de la base y la altura del cilindro."
      ],
      "metadata": {
        "id": "s8k3gaBpoxdV"
      }
    },
    {
      "cell_type": "code",
      "source": [
        "import math\n",
        "\n",
        "radio = float(input(\"Introduce el radio de la base del cilindro: \"))\n",
        "altura = float(input(\"Introduce la altura del cilindro: \"))\n",
        "\n",
        "# Calcula el volumen del cilindro\n",
        "\n",
        "# Imprime el volumen"
      ],
      "metadata": {
        "id": "oYOuajaHoyEp"
      },
      "execution_count": null,
      "outputs": []
    }
  ]
}